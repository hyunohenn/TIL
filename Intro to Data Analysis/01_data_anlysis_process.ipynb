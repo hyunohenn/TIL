{
 "cells": [
  {
   "cell_type": "markdown",
   "metadata": {},
   "source": [
    "# Lesson 1: Data Analysis Process\n",
    "\n",
    "## 1. Introduction\n",
    "\n",
    "## 2. Problems Solved by Data Analysts\n",
    "\n",
    "### Applications of Data Analysis\n",
    "- Paper by Facebook on exposure to ideologically diverse information\n",
    "- OKCupid blog post on the best questions to ask on a first date\n",
    "- How Walmart used data analysis to increase sales\n",
    "- How Bill James applied data analysis to baseball\n",
    "- A pharmaceutical company uses data analysis to predict which chemical compounds are likely to make effective drugs\n",
    "\n",
    "\n",
    "\n",
    "## 3. Data Analysis Process\n",
    "\n",
    "1. Question\n",
    "2. Wrangle\n",
    "    - data acquistions\n",
    "    - data cleaning\n",
    "3. Explore\n",
    "    - build intuition\n",
    "    - find patterns\n",
    "4. Draw Conclusions\n",
    "    - or make predictions\n",
    "        - recommandation systems\n",
    "        - machine learnings....\n",
    "5. Communicate\n",
    "    - blog post, paper, email,..\n",
    "    - data visualization\n",
    "    \n",
    "    \n",
    "- 위 과정은 뒤로 다시 돌아가기도 하고, 반복되기도 한다\n",
    "\n",
    "\n",
    "## 4. Setting Up Your System\n",
    "\n",
    "## 5. Intro th CSVs\n",
    "- Wrangling Phase\n",
    "    - Data acquisition\n",
    "        - downloading files\n",
    "        - Accessing an API\n",
    "        - Scraping a web page\n",
    "        - combine data from different formats\n",
    "    - Data cleaning\n",
    "    \n",
    "- CSV: Comma Separated Values\n",
    "    - like a spreadsheet with no formulas\n",
    "    - easy to porcess with code(unlike excel)\n",
    "\n",
    "## 6. CSVs in Python\n",
    "\n",
    "- Representing a CSV as a list of rows\n",
    "    - option 1: Each row is a list\n",
    "    - OPtion 2: Each row is a dict"
   ]
  },
  {
   "cell_type": "code",
   "execution_count": 6,
   "metadata": {},
   "outputs": [
    {
     "data": {
      "text/plain": [
       "{'account_key': '448',\n",
       " 'status': 'canceled',\n",
       " 'join_date': '2014-11-10',\n",
       " 'cancel_date': '2015-01-14',\n",
       " 'days_to_cancel': '65',\n",
       " 'is_udacity': 'True',\n",
       " 'is_canceled': 'True'}"
      ]
     },
     "execution_count": 6,
     "metadata": {},
     "output_type": "execute_result"
    }
   ],
   "source": [
    "import csv  # unicode안해도 됨\n",
    "\n",
    "with open('enrollments.csv') as csvfile:\n",
    "    reader = csv.DictReader(csvfile)\n",
    "    enrollments = list(reader)\n",
    "    \n",
    "enrollments[0]"
   ]
  },
  {
   "cell_type": "code",
   "execution_count": null,
   "metadata": {},
   "outputs": [],
   "source": [
    "#####################################\n",
    "#                 1                 #\n",
    "#####################################\n",
    "\n",
    "## Read in the data from daily_engagement.csv and project_submissions.csv \n",
    "## and store the results in the below variables.\n",
    "## Then look at the first row of each table.\n",
    "\n",
    "daily_engagement = \n",
    "project_submissions = "
   ]
  },
  {
   "cell_type": "code",
   "execution_count": 14,
   "metadata": {},
   "outputs": [
    {
     "name": "stdout",
     "output_type": "stream",
     "text": [
      "{'account_key': '448', 'status': 'canceled', 'join_date': '2014-11-10', 'cancel_date': '2015-01-14', 'days_to_cancel': '65', 'is_udacity': 'True', 'is_canceled': 'True'}\n",
      "\n",
      "{'acct': '0', 'utc_date': '2015-01-09', 'num_courses_visited': '1.0', 'total_minutes_visited': '11.6793745', 'lessons_completed': '0.0', 'projects_completed': '0.0'}\n",
      "\n",
      "{'creation_date': '2015-01-14', 'completion_date': '2015-01-16', 'assigned_rating': 'UNGRADED', 'account_key': '256', 'lesson_key': '3176718735', 'processing_state': 'EVALUATED'}\n"
     ]
    }
   ],
   "source": [
    "def read_csv(filename):\n",
    "    with open(filename) as csvfile:\n",
    "        reader = csv.DictReader(csvfile)\n",
    "        return list(reader)\n",
    "\n",
    "enrollments = read_csv('enrollments.csv')\n",
    "daily_engagement = read_csv('daily_engagement.csv')\n",
    "project_submissions = read_csv('project_submissions.csv')\n",
    "\n",
    "print(enrollments[0])\n",
    "print()\n",
    "print(daily_engagement[0])\n",
    "print()\n",
    "print(project_submissions[0])"
   ]
  },
  {
   "cell_type": "markdown",
   "metadata": {},
   "source": [
    "## 7. Fixing Data Types"
   ]
  },
  {
   "cell_type": "code",
   "execution_count": 15,
   "metadata": {},
   "outputs": [
    {
     "data": {
      "text/plain": [
       "{'account_key': '448',\n",
       " 'status': 'canceled',\n",
       " 'join_date': datetime.datetime(2014, 11, 10, 0, 0),\n",
       " 'cancel_date': datetime.datetime(2015, 1, 14, 0, 0),\n",
       " 'days_to_cancel': 65,\n",
       " 'is_udacity': True,\n",
       " 'is_canceled': True}"
      ]
     },
     "execution_count": 15,
     "metadata": {},
     "output_type": "execute_result"
    }
   ],
   "source": [
    "from datetime import datetime as dt\n",
    "\n",
    "# Takes a date as a string, and returns a Python datetime object. \n",
    "# If there is no date given, returns None\n",
    "def parse_date(date):\n",
    "    if date == '':\n",
    "        return None\n",
    "    else:\n",
    "        return dt.strptime(date, '%Y-%m-%d')\n",
    "    \n",
    "# Takes a string which is either an empty string or represents an integer,\n",
    "# and returns an int or None.\n",
    "def parse_maybe_int(i):\n",
    "    if i == '':\n",
    "        return None\n",
    "    else:\n",
    "        return int(i)\n",
    "\n",
    "# Clean up the data types in the enrollments table\n",
    "for enrollment in enrollments:\n",
    "    enrollment['cancel_date'] = parse_date(enrollment['cancel_date'])\n",
    "    enrollment['days_to_cancel'] = parse_maybe_int(enrollment['days_to_cancel'])\n",
    "    enrollment['is_canceled'] = enrollment['is_canceled'] == 'True'\n",
    "    enrollment['is_udacity'] = enrollment['is_udacity'] == 'True'\n",
    "    enrollment['join_date'] = parse_date(enrollment['join_date'])\n",
    "    \n",
    "enrollments[0]"
   ]
  },
  {
   "cell_type": "code",
   "execution_count": 16,
   "metadata": {},
   "outputs": [
    {
     "data": {
      "text/plain": [
       "{'acct': '0',\n",
       " 'utc_date': datetime.datetime(2015, 1, 9, 0, 0),\n",
       " 'num_courses_visited': 1,\n",
       " 'total_minutes_visited': 11.6793745,\n",
       " 'lessons_completed': 0,\n",
       " 'projects_completed': 0}"
      ]
     },
     "execution_count": 16,
     "metadata": {},
     "output_type": "execute_result"
    }
   ],
   "source": [
    "# Clean up the data types in the engagement table\n",
    "for engagement_record in daily_engagement:\n",
    "    engagement_record['lessons_completed'] = int(float(engagement_record['lessons_completed']))\n",
    "    engagement_record['num_courses_visited'] = int(float(engagement_record['num_courses_visited']))\n",
    "    engagement_record['projects_completed'] = int(float(engagement_record['projects_completed']))\n",
    "    engagement_record['total_minutes_visited'] = float(engagement_record['total_minutes_visited'])\n",
    "    engagement_record['utc_date'] = parse_date(engagement_record['utc_date'])\n",
    "    \n",
    "daily_engagement[0]"
   ]
  },
  {
   "cell_type": "code",
   "execution_count": 17,
   "metadata": {},
   "outputs": [
    {
     "data": {
      "text/plain": [
       "{'creation_date': datetime.datetime(2015, 1, 14, 0, 0),\n",
       " 'completion_date': datetime.datetime(2015, 1, 16, 0, 0),\n",
       " 'assigned_rating': 'UNGRADED',\n",
       " 'account_key': '256',\n",
       " 'lesson_key': '3176718735',\n",
       " 'processing_state': 'EVALUATED'}"
      ]
     },
     "execution_count": 17,
     "metadata": {},
     "output_type": "execute_result"
    }
   ],
   "source": [
    "# Clean up the data types in the submissions table\n",
    "for submission in project_submissions:\n",
    "    submission['completion_date'] = parse_date(submission['completion_date'])\n",
    "    submission['creation_date'] = parse_date(submission['creation_date'])\n",
    "\n",
    "project_submissions[0]"
   ]
  },
  {
   "cell_type": "markdown",
   "metadata": {},
   "source": [
    "## 8. Questions about Student Data\n",
    "\n",
    "- examples\n",
    "    - How long to submit projects\n",
    "    - How do students who pass thier projects differ from those who don't?\n",
    "    \n",
    "- 5 quedstions\n",
    "    - differences between cources...\n",
    "    \n",
    "    - How much time sudents spend taking classes\n",
    "    - How time spent relates to lessons/projects completed \n",
    "    - How engagements changes over time\n",
    "    - How many times students submit\n",
    "    \n",
    "    \n",
    "## 9. Investigating the Data\n"
   ]
  },
  {
   "cell_type": "code",
   "execution_count": 25,
   "metadata": {},
   "outputs": [],
   "source": [
    "#####################################\n",
    "#                 2                 #\n",
    "#####################################\n",
    "\n",
    "## Find the total number of rows and the number of unique students (account keys)\n",
    "## in each table.\n",
    "\n",
    "### For each of these three tables, find the number of rows in the table and\n",
    "### the number of unique students in the table. To find the number of unique\n",
    "### students, you might want to create a set of the account keys in each table.\n",
    "\n",
    "enrollment_num_rows = len(enrollments)\n",
    "enrollment_unique_students = set()\n",
    "for enrollment in enrollments:\n",
    "    enrollment_unique_students.add(enrollment['account_key'])\n",
    "\n",
    "enrollment_num_unique_students = len(enrollment_unique_students)  \n",
    "\n",
    "###\n",
    "engagement_num_rows = len(daily_engagement)\n",
    "engagement_unique_students = set()\n",
    "for engagement in daily_engagement:\n",
    "    engagement_unique_students.add(engagement['acct'])\n",
    "\n",
    "engagement_num_unique_students = len(engagement_unique_students)\n",
    "\n",
    "###\n",
    "submission_num_rows = len(project_submissions)\n",
    "project_submissions_unique_students = set()\n",
    "for submission in project_submissions:\n",
    "    project_submissions_unique_students.add(submission['account_key'])\n",
    "submission_num_unique_students = len(project_submissions_unique_students)"
   ]
  },
  {
   "cell_type": "markdown",
   "metadata": {},
   "source": [
    "## 10. Problems in the Data\n",
    "\n",
    "1. More Unique students in enrollment than engagement table\n",
    "2. Column named 'account_key' in two tables and 'acct' in the third"
   ]
  },
  {
   "cell_type": "code",
   "execution_count": 27,
   "metadata": {},
   "outputs": [
    {
     "name": "stdout",
     "output_type": "stream",
     "text": [
      "0\n"
     ]
    }
   ],
   "source": [
    "# 2번 해결을 위해 key값 동일하게 맞춘다\n",
    "\n",
    "for engagement in daily_engagement:\n",
    "    engagement['account_key'] = engagement['acct']\n",
    "    del engagement['acct']\n",
    "\n",
    "print(daily_engagement[0]['account_key'])"
   ]
  },
  {
   "cell_type": "markdown",
   "metadata": {},
   "source": [
    "## 11. Missing Engagement Records\n",
    "\n",
    "- solution for #1 problem\n",
    "- Why are students missing from daily_engagement?\n",
    "1. Identify surprising data points\n",
    "    - Any enrollment record with no corresponding engagement data\n",
    "    \n",
    "2. Print out one or a few surpring data points"
   ]
  },
  {
   "cell_type": "code",
   "execution_count": 29,
   "metadata": {},
   "outputs": [
    {
     "name": "stdout",
     "output_type": "stream",
     "text": [
      "{'account_key': '1219', 'status': 'canceled', 'join_date': datetime.datetime(2014, 11, 12, 0, 0), 'cancel_date': datetime.datetime(2014, 11, 12, 0, 0), 'days_to_cancel': 0, 'is_udacity': False, 'is_canceled': True}\n"
     ]
    }
   ],
   "source": [
    "for enrollment in enrollments:\n",
    "    student = enrollment['account_key']\n",
    "    if student not in engagement_unique_students:\n",
    "        print(enrollment)\n",
    "        \n",
    "# join data == cancel date일 경우 발견 \n",
    "# 이 때에 days_to_cancel = 0 "
   ]
  },
  {
   "cell_type": "markdown",
   "metadata": {},
   "source": [
    "## 12. Checking for More Problem Records\n",
    "\n",
    "### Investigating Data Problems\n",
    "1. Identify surprising data points\n",
    "2. Print out one or a few surprising points\n",
    "3. Fix any problems you find\n",
    "     - More investigation may be necessary\n",
    "     - or there might not be a problem!\n",
    "     \n",
    "     \n",
    "데이터의 문제점, 이상치\n",
    "\n",
    "## 13. Tracking Down the Remaining Problems"
   ]
  },
  {
   "cell_type": "code",
   "execution_count": 36,
   "metadata": {},
   "outputs": [
    {
     "name": "stdout",
     "output_type": "stream",
     "text": [
      "{'account_key': '1304', 'status': 'canceled', 'join_date': datetime.datetime(2015, 1, 10, 0, 0), 'cancel_date': datetime.datetime(2015, 3, 10, 0, 0), 'days_to_cancel': 59, 'is_udacity': True, 'is_canceled': True}\n",
      "{'account_key': '1304', 'status': 'canceled', 'join_date': datetime.datetime(2015, 3, 10, 0, 0), 'cancel_date': datetime.datetime(2015, 6, 17, 0, 0), 'days_to_cancel': 99, 'is_udacity': True, 'is_canceled': True}\n",
      "{'account_key': '1101', 'status': 'current', 'join_date': datetime.datetime(2015, 2, 25, 0, 0), 'cancel_date': None, 'days_to_cancel': None, 'is_udacity': True, 'is_canceled': False}\n",
      "3\n"
     ]
    }
   ],
   "source": [
    "cnt = 0\n",
    "for enrollment in enrollments:\n",
    "    student = enrollment['account_key']\n",
    "    if student not in engagement_unique_students and enrollment['join_date'] != enrollment['cancel_date']:\n",
    "        cnt += 1\n",
    "        print(enrollment)\n",
    "        \n",
    "print(cnt)\n",
    "\n",
    "\n",
    "# is_udacity -> True\n",
    "# 따라서 테스트 계정임을 알 수 있음"
   ]
  },
  {
   "cell_type": "code",
   "execution_count": 37,
   "metadata": {},
   "outputs": [
    {
     "data": {
      "text/plain": [
       "6"
      ]
     },
     "execution_count": 37,
     "metadata": {},
     "output_type": "execute_result"
    }
   ],
   "source": [
    "udacity_test_accounts = set()\n",
    "for enrollment in enrollments:\n",
    "    if enrollment['is_udacity']:\n",
    "        udacity_test_accounts.add(enrollment['account_key'])\n",
    "len(udacity_test_accounts)"
   ]
  },
  {
   "cell_type": "code",
   "execution_count": 57,
   "metadata": {},
   "outputs": [],
   "source": [
    "def remove_udacity_accounts(data):\n",
    "    non_udacity_data = []\n",
    "    for data_point in data:\n",
    "        if data_point['account_key'] not in udacity_test_accounts:\n",
    "            non_udacity_data.append(data_point)\n",
    "            \n",
    "    return non_udacity_data\n",
    "\n",
    "\n",
    "non_udacity_enrollments = remove_udacity_accounts(enrollments)\n",
    "non_udacity_engagement = remove_udacity_accounts(daily_engagement)\n",
    "non_udacity_submissions = remove_udacity_accounts(project_submissions)\n"
   ]
  },
  {
   "cell_type": "markdown",
   "metadata": {},
   "source": [
    "## 14. Refining the Questions\n",
    "\n",
    "### Explore Phase\n",
    "\n",
    "- 문제를 정제, 수정하여 실제로 분석하고자 하는 과제를 명확히 한다\n",
    "\n",
    "\n",
    "- Qustion: How do numbers in the daily engagement table differ for student who pass the first project?    \n",
    "- Revision: Only look at engagement from first week, and exclude students who cancel within a week\n",
    "\n",
    "\n",
    "#### Getting Started\n",
    "- Create a dictionary of students who either:\n",
    "    - haven't canceled yet(days_to_cancel is None)\n",
    "    - Stayed enrolled more than 7 days(days_to_cancel > 7)\n",
    "    \n",
    "- key: account keys\n",
    "- Values: enrollment date"
   ]
  },
  {
   "cell_type": "code",
   "execution_count": 41,
   "metadata": {},
   "outputs": [
    {
     "name": "stdout",
     "output_type": "stream",
     "text": [
      "1226\n"
     ]
    }
   ],
   "source": [
    "paid_students = {}\n",
    "\n",
    "for enrollment in enrollments:\n",
    "    tmp = {}\n",
    "    if enrollment['days_to_cancel'] == None or enrollment['days_to_cancel'] > 7:\n",
    "        tmp[enrollment['account_key']] = enrollment['days_to_cancel']\n",
    "        paid_students.append(tmp)\n",
    "\n",
    "print(len(paid_students))"
   ]
  },
  {
   "cell_type": "code",
   "execution_count": 47,
   "metadata": {},
   "outputs": [
    {
     "data": {
      "text/plain": [
       "995"
      ]
     },
     "execution_count": 47,
     "metadata": {},
     "output_type": "execute_result"
    }
   ],
   "source": [
    "paid_students = {}\n",
    "non_udacity_enrollments = remove_udacity_accounts(enrollments)\n",
    "\n",
    "for enrollment in non_udacity_enrollments:\n",
    "    if (not enrollment['is_canceled'] or\n",
    "            enrollment['days_to_cancel'] > 7):\n",
    "        account_key = enrollment['account_key']\n",
    "        enrollment_date = enrollment['join_date']\n",
    "        if (account_key not in paid_students or\n",
    "                enrollment_date > paid_students[account_key]):\n",
    "            paid_students[account_key] = enrollment_date\n",
    "\n",
    "            len(paid_students)"
   ]
  },
  {
   "cell_type": "markdown",
   "metadata": {},
   "source": [
    "## 15. Getting Data from First Week\n",
    "\n",
    "Note that paid students may have canceled from other courses before paying, and the suggested solution will retain records from these other enrollments."
   ]
  },
  {
   "cell_type": "code",
   "execution_count": 48,
   "metadata": {},
   "outputs": [],
   "source": [
    "def within_one_week(join_date, engagement_date):\n",
    "    time_delta = engagement_date - join_date\n",
    "    return time_delta.days < 7  # class -> delta thype"
   ]
  },
  {
   "cell_type": "code",
   "execution_count": 50,
   "metadata": {},
   "outputs": [
    {
     "data": {
      "text/plain": [
       "datetime.timedelta(days=-65)"
      ]
     },
     "execution_count": 50,
     "metadata": {},
     "output_type": "execute_result"
    }
   ],
   "source": [
    "enrollments[0]['join_date'] - enrollments[0]['cancel_date'] "
   ]
  },
  {
   "cell_type": "code",
   "execution_count": 52,
   "metadata": {},
   "outputs": [
    {
     "data": {
      "text/plain": [
       "datetime.timedelta(days=-2298, seconds=54022, microseconds=958395)"
      ]
     },
     "execution_count": 52,
     "metadata": {},
     "output_type": "execute_result"
    }
   ],
   "source": [
    "import datetime\n",
    "enrollments[0]['join_date'] - datetime.datetime.now() "
   ]
  },
  {
   "cell_type": "code",
   "execution_count": 79,
   "metadata": {},
   "outputs": [
    {
     "name": "stdout",
     "output_type": "stream",
     "text": [
      "1293\n",
      "134549\n",
      "3618\n"
     ]
    },
    {
     "data": {
      "text/plain": [
       "6919"
      ]
     },
     "execution_count": 79,
     "metadata": {},
     "output_type": "execute_result"
    }
   ],
   "source": [
    "# engagement에서 paid, time_delta > 7인 학생 수 찾기\n",
    "\n",
    "def remove_free_trial_cancels(data):\n",
    "    new_data = []\n",
    "    for data_point in data:\n",
    "        if data_point['account_key'] in paid_students:\n",
    "            new_data.append(data_point)\n",
    "    return new_data\n",
    "\n",
    "paid_enrollments = remove_free_trial_cancels(non_udacity_enrollments)\n",
    "paid_engagement = remove_free_trial_cancels(non_udacity_engagement)\n",
    "paid_submissions = remove_free_trial_cancels(non_udacity_submissions)\n",
    "\n",
    "print(len(paid_enrollments))\n",
    "print(len(paid_engagement))\n",
    "print(len(paid_submissions))\n",
    "\n",
    "paid_engagement_in_first_week = []\n",
    "for engagement_record in paid_engagement:\n",
    "    account_key = engagement_record['account_key']\n",
    "    join_date = paid_students[account_key]\n",
    "    engagement_record_date = engagement_record['utc_date']\n",
    "\n",
    "    if within_one_week(join_date, engagement_record_date):\n",
    "         paid_engagement_in_first_week.append(engagement_record)\n",
    "\n",
    "len(paid_engagement_in_first_week)"
   ]
  },
  {
   "cell_type": "code",
   "execution_count": 54,
   "metadata": {},
   "outputs": [
    {
     "name": "stdout",
     "output_type": "stream",
     "text": [
      "{'utc_date': datetime.datetime(2015, 1, 9, 0, 0), 'num_courses_visited': 1, 'total_minutes_visited': 11.6793745, 'lessons_completed': 0, 'projects_completed': 0, 'account_key': '0'}\n"
     ]
    }
   ],
   "source": [
    "print(daily_engagement[0])"
   ]
  },
  {
   "cell_type": "markdown",
   "metadata": {},
   "source": [
    "## 16. Indulge Curiosity\n",
    "\n",
    "## 17. Exploing Student Engagement"
   ]
  },
  {
   "cell_type": "code",
   "execution_count": 80,
   "metadata": {},
   "outputs": [],
   "source": [
    "from collections import defaultdict\n",
    "\n",
    "# Create a dictionary of engagement grouped by student.\n",
    "# The keys are account keys, and the values are lists of engagement records.\n",
    "engagement_by_account = defaultdict(list)\n",
    "for engagement_record in paid_engagement_in_first_week:\n",
    "    account_key = engagement_record['account_key']\n",
    "    engagement_by_account[account_key].append(engagement_record)"
   ]
  },
  {
   "cell_type": "code",
   "execution_count": 81,
   "metadata": {},
   "outputs": [],
   "source": [
    "# Create a dictionary with the total minutes each student spent in the classroom during the first week.\n",
    "# The keys are account keys, and the values are numbers (total minutes)\n",
    "total_minutes_by_account = {}\n",
    "for account_key, engagement_for_student in engagement_by_account.items():\n",
    "    total_minutes = 0\n",
    "    for engagement_record in engagement_for_student:\n",
    "        total_minutes += engagement_record['total_minutes_visited']\n",
    "    total_minutes_by_account[account_key] = total_minutes"
   ]
  },
  {
   "cell_type": "code",
   "execution_count": 82,
   "metadata": {},
   "outputs": [
    {
     "name": "stdout",
     "output_type": "stream",
     "text": [
      "Mean: 306.70832675342825\n",
      "Standard deviation: 412.99693340852957\n",
      "Minimum: 0.0\n",
      "Maximum: 3564.7332644989997\n"
     ]
    }
   ],
   "source": [
    "import numpy as np\n",
    "\n",
    "# Summarize the data about minutes spent in the classroom\n",
    "total_minutes = list(total_minutes_by_account.values())\n",
    "\n",
    "# 파이썬 버전 문제\n",
    "print('Mean:', np.mean(total_minutes))\n",
    "print('Standard deviation:', np.std(total_minutes))\n",
    "print('Minimum:', np.min(total_minutes))\n",
    "print('Maximum:', np.max(total_minutes))"
   ]
  },
  {
   "cell_type": "markdown",
   "metadata": {},
   "source": [
    "## 18. Debugging Data Analysis Code\n",
    "\n",
    "1. Identify surprising data points\n",
    "2. Print out one or a few surprising points\n",
    "3. Fix any problems you find\n",
    "\n",
    "\n",
    "- 여기서 보면 maximun total_minutes가 실제 일주일 동안의 시간보다 큰 문제점 발생"
   ]
  },
  {
   "cell_type": "code",
   "execution_count": 71,
   "metadata": {},
   "outputs": [
    {
     "name": "stdout",
     "output_type": "stream",
     "text": [
      "{'utc_date': datetime.datetime(2015, 1, 7, 0, 0), 'num_courses_visited': 1, 'total_minutes_visited': 50.9938951667, 'lessons_completed': 0, 'projects_completed': 0, 'account_key': '108'}\n",
      "{'utc_date': datetime.datetime(2015, 1, 8, 0, 0), 'num_courses_visited': 2, 'total_minutes_visited': 688.3034385, 'lessons_completed': 5, 'projects_completed': 0, 'account_key': '108'}\n",
      "{'utc_date': datetime.datetime(2015, 1, 9, 0, 0), 'num_courses_visited': 2, 'total_minutes_visited': 427.691757667, 'lessons_completed': 1, 'projects_completed': 0, 'account_key': '108'}\n",
      "{'utc_date': datetime.datetime(2015, 1, 10, 0, 0), 'num_courses_visited': 3, 'total_minutes_visited': 165.6270925, 'lessons_completed': 0, 'projects_completed': 0, 'account_key': '108'}\n",
      "{'utc_date': datetime.datetime(2015, 1, 11, 0, 0), 'num_courses_visited': 0, 'total_minutes_visited': 0.0, 'lessons_completed': 0, 'projects_completed': 0, 'account_key': '108'}\n",
      "{'utc_date': datetime.datetime(2015, 1, 12, 0, 0), 'num_courses_visited': 2, 'total_minutes_visited': 199.746703834, 'lessons_completed': 0, 'projects_completed': 0, 'account_key': '108'}\n",
      "{'utc_date': datetime.datetime(2015, 1, 13, 0, 0), 'num_courses_visited': 1, 'total_minutes_visited': 522.626804333, 'lessons_completed': 0, 'projects_completed': 0, 'account_key': '108'}\n",
      "{'utc_date': datetime.datetime(2015, 1, 14, 0, 0), 'num_courses_visited': 1, 'total_minutes_visited': 19.3757686667, 'lessons_completed': 0, 'projects_completed': 0, 'account_key': '108'}\n",
      "{'utc_date': datetime.datetime(2015, 1, 15, 0, 0), 'num_courses_visited': 1, 'total_minutes_visited': 159.846594, 'lessons_completed': 1, 'projects_completed': 0, 'account_key': '108'}\n",
      "{'utc_date': datetime.datetime(2015, 1, 16, 0, 0), 'num_courses_visited': 2, 'total_minutes_visited': 188.953028166, 'lessons_completed': 0, 'projects_completed': 0, 'account_key': '108'}\n",
      "{'utc_date': datetime.datetime(2015, 1, 17, 0, 0), 'num_courses_visited': 3, 'total_minutes_visited': 150.338208833, 'lessons_completed': 1, 'projects_completed': 0, 'account_key': '108'}\n",
      "{'utc_date': datetime.datetime(2015, 1, 18, 0, 0), 'num_courses_visited': 2, 'total_minutes_visited': 46.2042118333, 'lessons_completed': 0, 'projects_completed': 0, 'account_key': '108'}\n",
      "{'utc_date': datetime.datetime(2015, 1, 19, 0, 0), 'num_courses_visited': 0, 'total_minutes_visited': 0.0, 'lessons_completed': 0, 'projects_completed': 0, 'account_key': '108'}\n",
      "{'utc_date': datetime.datetime(2015, 1, 20, 0, 0), 'num_courses_visited': 0, 'total_minutes_visited': 0.0, 'lessons_completed': 0, 'projects_completed': 0, 'account_key': '108'}\n",
      "{'utc_date': datetime.datetime(2015, 1, 21, 0, 0), 'num_courses_visited': 0, 'total_minutes_visited': 0.0, 'lessons_completed': 0, 'projects_completed': 0, 'account_key': '108'}\n",
      "{'utc_date': datetime.datetime(2015, 1, 22, 0, 0), 'num_courses_visited': 2, 'total_minutes_visited': 31.7297723333, 'lessons_completed': 0, 'projects_completed': 0, 'account_key': '108'}\n",
      "{'utc_date': datetime.datetime(2015, 1, 23, 0, 0), 'num_courses_visited': 1, 'total_minutes_visited': 206.586538333, 'lessons_completed': 0, 'projects_completed': 0, 'account_key': '108'}\n",
      "{'utc_date': datetime.datetime(2015, 1, 24, 0, 0), 'num_courses_visited': 0, 'total_minutes_visited': 0.0, 'lessons_completed': 0, 'projects_completed': 0, 'account_key': '108'}\n",
      "{'utc_date': datetime.datetime(2015, 1, 25, 0, 0), 'num_courses_visited': 0, 'total_minutes_visited': 0.0, 'lessons_completed': 0, 'projects_completed': 0, 'account_key': '108'}\n",
      "{'utc_date': datetime.datetime(2015, 1, 26, 0, 0), 'num_courses_visited': 1, 'total_minutes_visited': 129.350111833, 'lessons_completed': 0, 'projects_completed': 0, 'account_key': '108'}\n",
      "{'utc_date': datetime.datetime(2015, 1, 27, 0, 0), 'num_courses_visited': 1, 'total_minutes_visited': 73.5691376667, 'lessons_completed': 0, 'projects_completed': 0, 'account_key': '108'}\n",
      "{'utc_date': datetime.datetime(2015, 1, 28, 0, 0), 'num_courses_visited': 0, 'total_minutes_visited': 0.0, 'lessons_completed': 0, 'projects_completed': 0, 'account_key': '108'}\n",
      "{'utc_date': datetime.datetime(2015, 1, 29, 0, 0), 'num_courses_visited': 1, 'total_minutes_visited': 271.0895865, 'lessons_completed': 0, 'projects_completed': 0, 'account_key': '108'}\n",
      "{'utc_date': datetime.datetime(2015, 1, 30, 0, 0), 'num_courses_visited': 1, 'total_minutes_visited': 432.252650333, 'lessons_completed': 1, 'projects_completed': 0, 'account_key': '108'}\n",
      "{'utc_date': datetime.datetime(2015, 1, 31, 0, 0), 'num_courses_visited': 1, 'total_minutes_visited': 196.13898, 'lessons_completed': 0, 'projects_completed': 0, 'account_key': '108'}\n",
      "{'utc_date': datetime.datetime(2015, 2, 1, 0, 0), 'num_courses_visited': 1, 'total_minutes_visited': 68.9915653333, 'lessons_completed': 0, 'projects_completed': 0, 'account_key': '108'}\n",
      "{'utc_date': datetime.datetime(2015, 2, 2, 0, 0), 'num_courses_visited': 2, 'total_minutes_visited': 86.3277713333, 'lessons_completed': 0, 'projects_completed': 0, 'account_key': '108'}\n",
      "{'utc_date': datetime.datetime(2015, 2, 3, 0, 0), 'num_courses_visited': 0, 'total_minutes_visited': 0.0, 'lessons_completed': 0, 'projects_completed': 0, 'account_key': '108'}\n",
      "{'utc_date': datetime.datetime(2015, 2, 4, 0, 0), 'num_courses_visited': 0, 'total_minutes_visited': 0.0, 'lessons_completed': 0, 'projects_completed': 0, 'account_key': '108'}\n",
      "{'utc_date': datetime.datetime(2015, 2, 5, 0, 0), 'num_courses_visited': 1, 'total_minutes_visited': 153.230525, 'lessons_completed': 0, 'projects_completed': 0, 'account_key': '108'}\n",
      "{'utc_date': datetime.datetime(2015, 2, 6, 0, 0), 'num_courses_visited': 0, 'total_minutes_visited': 0.0, 'lessons_completed': 0, 'projects_completed': 0, 'account_key': '108'}\n",
      "{'utc_date': datetime.datetime(2015, 2, 7, 0, 0), 'num_courses_visited': 0, 'total_minutes_visited': 0.0, 'lessons_completed': 0, 'projects_completed': 0, 'account_key': '108'}\n",
      "{'utc_date': datetime.datetime(2015, 2, 8, 0, 0), 'num_courses_visited': 0, 'total_minutes_visited': 0.0, 'lessons_completed': 0, 'projects_completed': 0, 'account_key': '108'}\n",
      "{'utc_date': datetime.datetime(2015, 2, 9, 0, 0), 'num_courses_visited': 1, 'total_minutes_visited': 16.687455, 'lessons_completed': 0, 'projects_completed': 0, 'account_key': '108'}\n",
      "{'utc_date': datetime.datetime(2015, 2, 10, 0, 0), 'num_courses_visited': 1, 'total_minutes_visited': 133.047518833, 'lessons_completed': 0, 'projects_completed': 0, 'account_key': '108'}\n",
      "{'utc_date': datetime.datetime(2015, 2, 11, 0, 0), 'num_courses_visited': 2, 'total_minutes_visited': 60.2176756667, 'lessons_completed': 0, 'projects_completed': 0, 'account_key': '108'}\n",
      "{'utc_date': datetime.datetime(2015, 2, 12, 0, 0), 'num_courses_visited': 3, 'total_minutes_visited': 160.438302667, 'lessons_completed': 0, 'projects_completed': 0, 'account_key': '108'}\n",
      "{'utc_date': datetime.datetime(2015, 2, 13, 0, 0), 'num_courses_visited': 2, 'total_minutes_visited': 506.220547, 'lessons_completed': 4, 'projects_completed': 0, 'account_key': '108'}\n",
      "{'utc_date': datetime.datetime(2015, 2, 14, 0, 0), 'num_courses_visited': 1, 'total_minutes_visited': 105.095858167, 'lessons_completed': 0, 'projects_completed': 0, 'account_key': '108'}\n",
      "{'utc_date': datetime.datetime(2015, 2, 15, 0, 0), 'num_courses_visited': 0, 'total_minutes_visited': 0.0, 'lessons_completed': 0, 'projects_completed': 0, 'account_key': '108'}\n",
      "{'utc_date': datetime.datetime(2015, 2, 16, 0, 0), 'num_courses_visited': 0, 'total_minutes_visited': 0.0, 'lessons_completed': 0, 'projects_completed': 0, 'account_key': '108'}\n",
      "{'utc_date': datetime.datetime(2015, 2, 17, 0, 0), 'num_courses_visited': 1, 'total_minutes_visited': 2.851689, 'lessons_completed': 0, 'projects_completed': 0, 'account_key': '108'}\n",
      "{'utc_date': datetime.datetime(2015, 2, 18, 0, 0), 'num_courses_visited': 1, 'total_minutes_visited': 10.9540768333, 'lessons_completed': 1, 'projects_completed': 0, 'account_key': '108'}\n",
      "{'utc_date': datetime.datetime(2015, 2, 19, 0, 0), 'num_courses_visited': 1, 'total_minutes_visited': 474.2906025, 'lessons_completed': 3, 'projects_completed': 0, 'account_key': '108'}\n",
      "{'utc_date': datetime.datetime(2015, 2, 20, 0, 0), 'num_courses_visited': 2, 'total_minutes_visited': 820.879483167, 'lessons_completed': 5, 'projects_completed': 0, 'account_key': '108'}\n",
      "{'utc_date': datetime.datetime(2015, 2, 21, 0, 0), 'num_courses_visited': 2, 'total_minutes_visited': 189.447189334, 'lessons_completed': 2, 'projects_completed': 0, 'account_key': '108'}\n",
      "{'utc_date': datetime.datetime(2015, 2, 22, 0, 0), 'num_courses_visited': 2, 'total_minutes_visited': 97.7356985, 'lessons_completed': 1, 'projects_completed': 0, 'account_key': '108'}\n",
      "{'utc_date': datetime.datetime(2015, 2, 23, 0, 0), 'num_courses_visited': 1, 'total_minutes_visited': 16.399642, 'lessons_completed': 0, 'projects_completed': 0, 'account_key': '108'}\n",
      "{'utc_date': datetime.datetime(2015, 2, 24, 0, 0), 'num_courses_visited': 0, 'total_minutes_visited': 0.0, 'lessons_completed': 0, 'projects_completed': 0, 'account_key': '108'}\n",
      "{'utc_date': datetime.datetime(2015, 2, 25, 0, 0), 'num_courses_visited': 0, 'total_minutes_visited': 0.0, 'lessons_completed': 0, 'projects_completed': 0, 'account_key': '108'}\n",
      "{'utc_date': datetime.datetime(2015, 2, 26, 0, 0), 'num_courses_visited': 0, 'total_minutes_visited': 0.0, 'lessons_completed': 0, 'projects_completed': 0, 'account_key': '108'}\n",
      "{'utc_date': datetime.datetime(2015, 2, 27, 0, 0), 'num_courses_visited': 0, 'total_minutes_visited': 0.0, 'lessons_completed': 0, 'projects_completed': 0, 'account_key': '108'}\n",
      "{'utc_date': datetime.datetime(2015, 2, 28, 0, 0), 'num_courses_visited': 0, 'total_minutes_visited': 0.0, 'lessons_completed': 0, 'projects_completed': 0, 'account_key': '108'}\n",
      "{'utc_date': datetime.datetime(2015, 3, 1, 0, 0), 'num_courses_visited': 0, 'total_minutes_visited': 0.0, 'lessons_completed': 0, 'projects_completed': 0, 'account_key': '108'}\n",
      "{'utc_date': datetime.datetime(2015, 3, 2, 0, 0), 'num_courses_visited': 0, 'total_minutes_visited': 0.0, 'lessons_completed': 0, 'projects_completed': 0, 'account_key': '108'}\n",
      "{'utc_date': datetime.datetime(2015, 3, 3, 0, 0), 'num_courses_visited': 0, 'total_minutes_visited': 0.0, 'lessons_completed': 0, 'projects_completed': 0, 'account_key': '108'}\n",
      "{'utc_date': datetime.datetime(2015, 3, 4, 0, 0), 'num_courses_visited': 1, 'total_minutes_visited': 2.0494365, 'lessons_completed': 0, 'projects_completed': 0, 'account_key': '108'}\n",
      "{'utc_date': datetime.datetime(2015, 3, 5, 0, 0), 'num_courses_visited': 0, 'total_minutes_visited': 0.0, 'lessons_completed': 0, 'projects_completed': 0, 'account_key': '108'}\n",
      "{'utc_date': datetime.datetime(2015, 3, 6, 0, 0), 'num_courses_visited': 2, 'total_minutes_visited': 431.799976167, 'lessons_completed': 2, 'projects_completed': 0, 'account_key': '108'}\n",
      "{'utc_date': datetime.datetime(2015, 3, 7, 0, 0), 'num_courses_visited': 1, 'total_minutes_visited': 119.514411833, 'lessons_completed': 1, 'projects_completed': 0, 'account_key': '108'}\n",
      "{'utc_date': datetime.datetime(2015, 3, 8, 0, 0), 'num_courses_visited': 1, 'total_minutes_visited': 164.2608825, 'lessons_completed': 1, 'projects_completed': 0, 'account_key': '108'}\n",
      "{'utc_date': datetime.datetime(2015, 3, 9, 0, 0), 'num_courses_visited': 2, 'total_minutes_visited': 179.749760666, 'lessons_completed': 0, 'projects_completed': 0, 'account_key': '108'}\n",
      "{'utc_date': datetime.datetime(2015, 3, 10, 0, 0), 'num_courses_visited': 0, 'total_minutes_visited': 0.0, 'lessons_completed': 0, 'projects_completed': 0, 'account_key': '108'}\n",
      "{'utc_date': datetime.datetime(2015, 3, 11, 0, 0), 'num_courses_visited': 0, 'total_minutes_visited': 0.0, 'lessons_completed': 0, 'projects_completed': 0, 'account_key': '108'}\n",
      "{'utc_date': datetime.datetime(2015, 3, 12, 0, 0), 'num_courses_visited': 1, 'total_minutes_visited': 10.787165, 'lessons_completed': 0, 'projects_completed': 0, 'account_key': '108'}\n",
      "{'utc_date': datetime.datetime(2015, 3, 13, 0, 0), 'num_courses_visited': 1, 'total_minutes_visited': 53.0065191667, 'lessons_completed': 0, 'projects_completed': 0, 'account_key': '108'}\n",
      "{'utc_date': datetime.datetime(2015, 3, 14, 0, 0), 'num_courses_visited': 1, 'total_minutes_visited': 203.048973667, 'lessons_completed': 1, 'projects_completed': 0, 'account_key': '108'}\n",
      "{'utc_date': datetime.datetime(2015, 3, 15, 0, 0), 'num_courses_visited': 1, 'total_minutes_visited': 51.2993831667, 'lessons_completed': 0, 'projects_completed': 0, 'account_key': '108'}\n",
      "{'utc_date': datetime.datetime(2015, 3, 16, 0, 0), 'num_courses_visited': 0, 'total_minutes_visited': 0.0, 'lessons_completed': 0, 'projects_completed': 0, 'account_key': '108'}\n",
      "{'utc_date': datetime.datetime(2015, 3, 17, 0, 0), 'num_courses_visited': 1, 'total_minutes_visited': 148.2304025, 'lessons_completed': 0, 'projects_completed': 0, 'account_key': '108'}\n",
      "{'utc_date': datetime.datetime(2015, 3, 18, 0, 0), 'num_courses_visited': 1, 'total_minutes_visited': 27.5826056667, 'lessons_completed': 0, 'projects_completed': 0, 'account_key': '108'}\n",
      "{'utc_date': datetime.datetime(2015, 3, 19, 0, 0), 'num_courses_visited': 0, 'total_minutes_visited': 0.0, 'lessons_completed': 0, 'projects_completed': 0, 'account_key': '108'}\n",
      "{'utc_date': datetime.datetime(2015, 3, 20, 0, 0), 'num_courses_visited': 0, 'total_minutes_visited': 0.0, 'lessons_completed': 0, 'projects_completed': 0, 'account_key': '108'}\n",
      "{'utc_date': datetime.datetime(2015, 3, 21, 0, 0), 'num_courses_visited': 1, 'total_minutes_visited': 14.4492643333, 'lessons_completed': 0, 'projects_completed': 0, 'account_key': '108'}\n",
      "{'utc_date': datetime.datetime(2015, 3, 22, 0, 0), 'num_courses_visited': 1, 'total_minutes_visited': 159.175812667, 'lessons_completed': 1, 'projects_completed': 0, 'account_key': '108'}\n",
      "{'utc_date': datetime.datetime(2015, 3, 23, 0, 0), 'num_courses_visited': 1, 'total_minutes_visited': 23.0641448333, 'lessons_completed': 0, 'projects_completed': 0, 'account_key': '108'}\n",
      "{'utc_date': datetime.datetime(2015, 3, 24, 0, 0), 'num_courses_visited': 2, 'total_minutes_visited': 327.687187333, 'lessons_completed': 3, 'projects_completed': 1, 'account_key': '108'}\n",
      "{'utc_date': datetime.datetime(2015, 3, 25, 0, 0), 'num_courses_visited': 1, 'total_minutes_visited': 210.324669, 'lessons_completed': 5, 'projects_completed': 0, 'account_key': '108'}\n",
      "{'utc_date': datetime.datetime(2015, 3, 26, 0, 0), 'num_courses_visited': 2, 'total_minutes_visited': 114.421496, 'lessons_completed': 0, 'projects_completed': 0, 'account_key': '108'}\n",
      "{'utc_date': datetime.datetime(2015, 3, 27, 0, 0), 'num_courses_visited': 1, 'total_minutes_visited': 85.2018686667, 'lessons_completed': 0, 'projects_completed': 0, 'account_key': '108'}\n",
      "{'utc_date': datetime.datetime(2015, 3, 28, 0, 0), 'num_courses_visited': 1, 'total_minutes_visited': 9.53501516667, 'lessons_completed': 0, 'projects_completed': 0, 'account_key': '108'}\n",
      "{'utc_date': datetime.datetime(2015, 3, 29, 0, 0), 'num_courses_visited': 0, 'total_minutes_visited': 0.0, 'lessons_completed': 0, 'projects_completed': 0, 'account_key': '108'}\n",
      "{'utc_date': datetime.datetime(2015, 3, 30, 0, 0), 'num_courses_visited': 0, 'total_minutes_visited': 0.0, 'lessons_completed': 0, 'projects_completed': 0, 'account_key': '108'}\n",
      "{'utc_date': datetime.datetime(2015, 3, 31, 0, 0), 'num_courses_visited': 0, 'total_minutes_visited': 0.0, 'lessons_completed': 0, 'projects_completed': 0, 'account_key': '108'}\n",
      "{'utc_date': datetime.datetime(2015, 4, 1, 0, 0), 'num_courses_visited': 3, 'total_minutes_visited': 147.569145833, 'lessons_completed': 0, 'projects_completed': 0, 'account_key': '108'}\n",
      "{'utc_date': datetime.datetime(2015, 4, 2, 0, 0), 'num_courses_visited': 3, 'total_minutes_visited': 77.2467501667, 'lessons_completed': 0, 'projects_completed': 0, 'account_key': '108'}\n",
      "{'utc_date': datetime.datetime(2015, 4, 3, 0, 0), 'num_courses_visited': 3, 'total_minutes_visited': 84.8263243333, 'lessons_completed': 0, 'projects_completed': 0, 'account_key': '108'}\n",
      "{'utc_date': datetime.datetime(2015, 4, 4, 0, 0), 'num_courses_visited': 0, 'total_minutes_visited': 0.0, 'lessons_completed': 0, 'projects_completed': 0, 'account_key': '108'}\n",
      "{'utc_date': datetime.datetime(2015, 4, 5, 0, 0), 'num_courses_visited': 0, 'total_minutes_visited': 0.0, 'lessons_completed': 0, 'projects_completed': 0, 'account_key': '108'}\n",
      "{'utc_date': datetime.datetime(2015, 4, 6, 0, 0), 'num_courses_visited': 2, 'total_minutes_visited': 32.9969003333, 'lessons_completed': 0, 'projects_completed': 0, 'account_key': '108'}\n",
      "{'utc_date': datetime.datetime(2015, 4, 7, 0, 0), 'num_courses_visited': 1, 'total_minutes_visited': 173.764699333, 'lessons_completed': 0, 'projects_completed': 0, 'account_key': '108'}\n",
      "{'utc_date': datetime.datetime(2015, 4, 8, 0, 0), 'num_courses_visited': 0, 'total_minutes_visited': 0.0, 'lessons_completed': 0, 'projects_completed': 0, 'account_key': '108'}\n",
      "{'utc_date': datetime.datetime(2015, 4, 9, 0, 0), 'num_courses_visited': 1, 'total_minutes_visited': 85.6887951667, 'lessons_completed': 0, 'projects_completed': 0, 'account_key': '108'}\n",
      "{'utc_date': datetime.datetime(2015, 4, 10, 0, 0), 'num_courses_visited': 2, 'total_minutes_visited': 72.4837255, 'lessons_completed': 0, 'projects_completed': 0, 'account_key': '108'}\n",
      "{'utc_date': datetime.datetime(2015, 4, 11, 0, 0), 'num_courses_visited': 0, 'total_minutes_visited': 0.0, 'lessons_completed': 0, 'projects_completed': 0, 'account_key': '108'}\n",
      "{'utc_date': datetime.datetime(2015, 4, 12, 0, 0), 'num_courses_visited': 0, 'total_minutes_visited': 0.0, 'lessons_completed': 0, 'projects_completed': 0, 'account_key': '108'}\n",
      "{'utc_date': datetime.datetime(2015, 4, 13, 0, 0), 'num_courses_visited': 0, 'total_minutes_visited': 0.0, 'lessons_completed': 0, 'projects_completed': 0, 'account_key': '108'}\n",
      "{'utc_date': datetime.datetime(2015, 4, 14, 0, 0), 'num_courses_visited': 1, 'total_minutes_visited': 36.9211676667, 'lessons_completed': 0, 'projects_completed': 0, 'account_key': '108'}\n",
      "{'utc_date': datetime.datetime(2015, 4, 15, 0, 0), 'num_courses_visited': 2, 'total_minutes_visited': 179.353473333, 'lessons_completed': 1, 'projects_completed': 0, 'account_key': '108'}\n",
      "{'utc_date': datetime.datetime(2015, 4, 16, 0, 0), 'num_courses_visited': 2, 'total_minutes_visited': 274.209734167, 'lessons_completed': 0, 'projects_completed': 0, 'account_key': '108'}\n",
      "{'utc_date': datetime.datetime(2015, 4, 17, 0, 0), 'num_courses_visited': 1, 'total_minutes_visited': 40.340405, 'lessons_completed': 0, 'projects_completed': 0, 'account_key': '108'}\n",
      "{'utc_date': datetime.datetime(2015, 4, 18, 0, 0), 'num_courses_visited': 0, 'total_minutes_visited': 0.0, 'lessons_completed': 0, 'projects_completed': 0, 'account_key': '108'}\n",
      "{'utc_date': datetime.datetime(2015, 4, 19, 0, 0), 'num_courses_visited': 0, 'total_minutes_visited': 0.0, 'lessons_completed': 0, 'projects_completed': 0, 'account_key': '108'}\n",
      "{'utc_date': datetime.datetime(2015, 4, 20, 0, 0), 'num_courses_visited': 2, 'total_minutes_visited': 25.9137858334, 'lessons_completed': 0, 'projects_completed': 0, 'account_key': '108'}\n",
      "{'utc_date': datetime.datetime(2015, 4, 21, 0, 0), 'num_courses_visited': 1, 'total_minutes_visited': 3.40682316667, 'lessons_completed': 0, 'projects_completed': 0, 'account_key': '108'}\n",
      "{'utc_date': datetime.datetime(2015, 4, 22, 0, 0), 'num_courses_visited': 2, 'total_minutes_visited': 99.1186611667, 'lessons_completed': 0, 'projects_completed': 0, 'account_key': '108'}\n",
      "{'utc_date': datetime.datetime(2015, 4, 23, 0, 0), 'num_courses_visited': 1, 'total_minutes_visited': 35.8316206667, 'lessons_completed': 0, 'projects_completed': 2, 'account_key': '108'}\n",
      "{'utc_date': datetime.datetime(2015, 4, 24, 0, 0), 'num_courses_visited': 0, 'total_minutes_visited': 0.0, 'lessons_completed': 0, 'projects_completed': 0, 'account_key': '108'}\n",
      "{'utc_date': datetime.datetime(2015, 4, 25, 0, 0), 'num_courses_visited': 0, 'total_minutes_visited': 0.0, 'lessons_completed': 0, 'projects_completed': 0, 'account_key': '108'}\n",
      "{'utc_date': datetime.datetime(2015, 4, 26, 0, 0), 'num_courses_visited': 0, 'total_minutes_visited': 0.0, 'lessons_completed': 0, 'projects_completed': 0, 'account_key': '108'}\n"
     ]
    }
   ],
   "source": [
    "student_with_max_minutes = None\n",
    "max_minutes = 0\n",
    "\n",
    "for student, total_minutes in total_minutes_by_account.items():\n",
    "    if total_minutes > max_minutes:\n",
    "        max_minutes = total_minutes\n",
    "        student_with_max_minutes = student\n",
    "\n",
    "max_minutes\n",
    "\n",
    "for engagement_record in paid_engagement_in_first_week:\n",
    "    if engagement_record['account_key'] == student_with_max_minutes:\n",
    "        print(engagement_record)"
   ]
  },
  {
   "cell_type": "code",
   "execution_count": 78,
   "metadata": {},
   "outputs": [],
   "source": [
    "# Fixing bugs in within_one_week\n",
    "\n",
    "def within_one_week(join_date, engagement_date):\n",
    "    time_delta = engagement_date - join_date\n",
    "    return time_delta.days >= 0 and time_delta.days < 7"
   ]
  },
  {
   "cell_type": "markdown",
   "metadata": {},
   "source": [
    "## 19. Lessons Completed in First Week"
   ]
  },
  {
   "cell_type": "code",
   "execution_count": 86,
   "metadata": {},
   "outputs": [
    {
     "name": "stdout",
     "output_type": "stream",
     "text": [
      "Mean: 306.70832675342825\n",
      "Standard deviation: 412.99693340852957\n",
      "Minimum: 0.0\n",
      "Maximum: 3564.7332644989997\n"
     ]
    }
   ],
   "source": [
    "from collections import defaultdict\n",
    "\n",
    "def group_data(data, key_name):\n",
    "    grouped_data = defaultdict(list)\n",
    "    for data_point in data:\n",
    "        key = data_point[key_name]\n",
    "        grouped_data[key].append(data_point)\n",
    "    return grouped_data\n",
    "\n",
    "engagement_by_account = group_data(paid_engagement_in_first_week,\n",
    "                                   'account_key')\n",
    "\n",
    "def sum_grouped_items(grouped_data, field_name):\n",
    "    summed_data = {}\n",
    "    for key, data_points in grouped_data.items():\n",
    "        total = 0\n",
    "        for data_point in data_points:\n",
    "            total += data_point[field_name]\n",
    "        summed_data[key] = total\n",
    "    return summed_data\n",
    "\n",
    "total_minutes_by_account = sum_grouped_items(engagement_by_account,\n",
    "                                             'total_minutes_visited')\n",
    "\n",
    "import numpy as np\n",
    "\n",
    "def describe_data(data):\n",
    "    print('Mean:', np.mean(data))\n",
    "    print('Standard deviation:', np.std(data))\n",
    "    print('Minimum:', np.min(data))\n",
    "    print('Maximum:', np.max(data))\n",
    "\n",
    "describe_data(list(total_minutes_by_account.values()))"
   ]
  },
  {
   "cell_type": "code",
   "execution_count": 89,
   "metadata": {},
   "outputs": [
    {
     "name": "stdout",
     "output_type": "stream",
     "text": [
      "Mean: 1.636180904522613\n",
      "Standard deviation: 3.002561299829423\n",
      "Minimum: 0\n",
      "Maximum: 36\n"
     ]
    }
   ],
   "source": [
    "#  마친 사람들\n",
    "\n",
    "lessons_completed_by_account = sum_grouped_items(engagement_by_account,\n",
    "                                                 'lessons_completed')\n",
    "describe_data(list(lessons_completed_by_account.values()))"
   ]
  },
  {
   "cell_type": "markdown",
   "metadata": {},
   "source": [
    "## 20. Number of Visits in the First Week\n",
    "\n",
    "To analyze the number of days\n",
    "the student visited the classroom:\n",
    "     - change the 'sum_grouped_items' function\n",
    "     - create a field 'has_visited' either 1 or 0"
   ]
  },
  {
   "cell_type": "code",
   "execution_count": 90,
   "metadata": {},
   "outputs": [],
   "source": [
    "for engagement_record in paid_engagement:\n",
    "    if engagement_record['num_courses_visited'] > 0:\n",
    "        engagement_record['has_visited'] = 1\n",
    "    else:\n",
    "        engagement_record['has_visited'] = 0"
   ]
  },
  {
   "cell_type": "code",
   "execution_count": 92,
   "metadata": {},
   "outputs": [
    {
     "name": "stdout",
     "output_type": "stream",
     "text": [
      "Mean: 2.8673366834170855\n",
      "Standard deviation: 2.2551980029196814\n",
      "Minimum: 0\n",
      "Maximum: 7\n"
     ]
    }
   ],
   "source": [
    "days_visited_by_account = sum_grouped_items(engagement_by_account,\n",
    "                                            'has_visited')\n",
    "describe_data(list(days_visited_by_account.values()))"
   ]
  },
  {
   "cell_type": "markdown",
   "metadata": {},
   "source": [
    "## 21. Splitting out Passing Students"
   ]
  },
  {
   "cell_type": "code",
   "execution_count": 93,
   "metadata": {},
   "outputs": [
    {
     "data": {
      "text/plain": [
       "{'creation_date': datetime.datetime(2015, 1, 14, 0, 0),\n",
       " 'completion_date': datetime.datetime(2015, 1, 16, 0, 0),\n",
       " 'assigned_rating': 'UNGRADED',\n",
       " 'account_key': '256',\n",
       " 'lesson_key': '3176718735',\n",
       " 'processing_state': 'EVALUATED'}"
      ]
     },
     "execution_count": 93,
     "metadata": {},
     "output_type": "execute_result"
    }
   ],
   "source": [
    "paid_submissions[0]"
   ]
  },
  {
   "cell_type": "code",
   "execution_count": 94,
   "metadata": {},
   "outputs": [
    {
     "name": "stdout",
     "output_type": "stream",
     "text": [
      "4527\n",
      "2392\n"
     ]
    }
   ],
   "source": [
    "subway_project_lesson_keys = ['746169184', '3176718735']\n",
    "\n",
    "pass_subway_project = set()\n",
    "\n",
    "for submission in paid_submissions:\n",
    "    project = submission['lesson_key']\n",
    "    rating = submission['assigned_rating']    \n",
    "\n",
    "    if ((project in subway_project_lesson_keys) and\n",
    "            (rating == 'PASSED' or rating == 'DISTINCTION')):\n",
    "        pass_subway_project.add(submission['account_key'])\n",
    "\n",
    "len(pass_subway_project)\n",
    "\n",
    "passing_engagement = []\n",
    "non_passing_engagement = []\n",
    "\n",
    "for engagement_record in paid_engagement_in_first_week:\n",
    "    if engagement_record['account_key'] in pass_subway_project:\n",
    "        passing_engagement.append(engagement_record)\n",
    "    else:\n",
    "        non_passing_engagement.append(engagement_record)\n",
    "\n",
    "print(len(passing_engagement))\n",
    "print(len(non_passing_engagement))"
   ]
  },
  {
   "cell_type": "code",
   "execution_count": null,
   "metadata": {},
   "outputs": [],
   "source": []
  },
  {
   "cell_type": "code",
   "execution_count": null,
   "metadata": {},
   "outputs": [],
   "source": []
  },
  {
   "cell_type": "code",
   "execution_count": null,
   "metadata": {},
   "outputs": [],
   "source": []
  },
  {
   "cell_type": "code",
   "execution_count": null,
   "metadata": {},
   "outputs": [],
   "source": []
  },
  {
   "cell_type": "code",
   "execution_count": null,
   "metadata": {},
   "outputs": [],
   "source": []
  },
  {
   "cell_type": "code",
   "execution_count": null,
   "metadata": {},
   "outputs": [],
   "source": []
  },
  {
   "cell_type": "code",
   "execution_count": null,
   "metadata": {},
   "outputs": [],
   "source": []
  }
 ],
 "metadata": {
  "kernelspec": {
   "display_name": "Python 3",
   "language": "python",
   "name": "python3"
  },
  "language_info": {
   "codemirror_mode": {
    "name": "ipython",
    "version": 3
   },
   "file_extension": ".py",
   "mimetype": "text/x-python",
   "name": "python",
   "nbconvert_exporter": "python",
   "pygments_lexer": "ipython3",
   "version": "3.8.3"
  }
 },
 "nbformat": 4,
 "nbformat_minor": 4
}
