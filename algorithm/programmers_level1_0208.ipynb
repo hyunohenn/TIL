{
 "cells": [
  {
   "cell_type": "markdown",
   "metadata": {},
   "source": [
    "# Programmers level1\n",
    "2021.02.08\n",
    "\n",
    "## 1. 문자열 다루기 기본\n",
    "\n",
    "문자열 s의 길이가 4 혹은 6이고, 숫자로만 구성돼있는지 확인해주는 함수, solution을 완성하세요. 예를 들어 s가 a234이면 False를 리턴하고 1234라면 True를 리턴하면 됩니다.\n",
    "\n",
    "- s는 길이 1 이상, 길이 8 이하인 문자열입니다."
   ]
  },
  {
   "cell_type": "code",
   "execution_count": 54,
   "metadata": {},
   "outputs": [],
   "source": [
    "def solution(s):\n",
    "    answer = True\n",
    "    if len(s) == 4 or len(s) == 6:\n",
    "        for char in s:\n",
    "            # 이렇게 말고 아스키 코드로 푸는 방법은\n",
    "            # 수업 진행되고 나서 한번 풀어보자\n",
    "            if char not in ['0','1','2','3','4','5','6','7','8','9']:\n",
    "                answer = False\n",
    "                break\n",
    "            \n",
    "    else: \n",
    "        answer = False      \n",
    "        \n",
    "    return answer"
   ]
  },
  {
   "cell_type": "code",
   "execution_count": 57,
   "metadata": {},
   "outputs": [
    {
     "data": {
      "text/plain": [
       "True"
      ]
     },
     "execution_count": 57,
     "metadata": {},
     "output_type": "execute_result"
    }
   ],
   "source": [
    "solution(\"1234\")"
   ]
  },
  {
   "cell_type": "markdown",
   "metadata": {},
   "source": [
    "## 2016년\n",
    "\n",
    "2016년 1월 1일은 금요일입니다. 2016년 a월 b일은 무슨 요일일까요? 두 수 a ,b를 입력받아 2016년 a월 b일이 무슨 요일인지 리턴하는 함수, solution을 완성하세요. 요일의 이름은 일요일부터 토요일까지 각각 SUN,MON,TUE,WED,THU,FRI,SAT\n",
    "\n",
    "입니다. 예를 들어 a=5, b=24라면 5월 24일은 화요일이므로 문자열 TUE를 반환하세요.\n",
    "\n",
    "- 2016년은 윤년입니다.\n",
    "- 2016년 a월 b일은 실제로 있는 날입니다. (13월 26일이나 2월 45일같은 날짜는 주어지지 않습니다)"
   ]
  },
  {
   "cell_type": "code",
   "execution_count": 48,
   "metadata": {},
   "outputs": [],
   "source": [
    "def solution(a, b):\n",
    "    total = 0\n",
    "    day = ['THU','FRI', 'SAT', 'SUN', 'MON', 'TUE', 'WED']\n",
    "    # a에 해당하는 달의 전달까지의 전체 날 수 + b를 더하여\n",
    "    # 최종 경과된 일수를 먼저 구한다\n",
    "    \n",
    "    for i in range(1, a):\n",
    "        \n",
    "        if i == 2: # 윤달일때\n",
    "            total += 29\n",
    "            \n",
    "        elif i in [1, 3, 5, 7, 8, 10, 12]: # 31일인 달일떄\n",
    "            total += 31\n",
    "            \n",
    "        else:  # 30일인 달일 때\n",
    "            total += 30\n",
    "            \n",
    "            \n",
    "    # 7로 나눈 나머지로 요일 정하기    \n",
    "    total += b\n",
    "    answer = day[total%7]\n",
    "    \n",
    "    return answer"
   ]
  },
  {
   "cell_type": "code",
   "execution_count": 49,
   "metadata": {},
   "outputs": [
    {
     "data": {
      "text/plain": [
       "'TUE'"
      ]
     },
     "execution_count": 49,
     "metadata": {},
     "output_type": "execute_result"
    }
   ],
   "source": [
    "solution(5, 24)"
   ]
  },
  {
   "cell_type": "code",
   "execution_count": 20,
   "metadata": {},
   "outputs": [
    {
     "data": {
      "text/plain": [
       "False"
      ]
     },
     "execution_count": 20,
     "metadata": {},
     "output_type": "execute_result"
    }
   ],
   "source": [
    "2 in [1, 3, 5, 7, 8, 10, 12]"
   ]
  },
  {
   "cell_type": "markdown",
   "metadata": {},
   "source": [
    "## 두개 뽑아서 더하기\n",
    "\n",
    "정수 배열 numbers가 주어집니다. numbers에서 서로 다른 인덱스에 있는 두 개의 수를 뽑아 더해서 만들 수 있는 모든 수를 배열에 오름차순으로 담아 return 하도록 solution 함수를 완성해주세요.\n",
    "\n",
    "- numbers의 길이는 2 이상 100 이하입니다.\n",
    "- numbers의 모든 수는 0 이상 100 이하입니다."
   ]
  },
  {
   "cell_type": "code",
   "execution_count": 13,
   "metadata": {},
   "outputs": [],
   "source": [
    "# list의 인덱스에 따라\n",
    "# 12, 13, 14, 15, 23, 24, 25, 34, 35 .... 이런 식으로 더해나가야 함\n",
    "\n",
    "def solution(numbers):\n",
    "    answer = []\n",
    "    for i in range(len(numbers)):\n",
    "        for j in range(i+1, len(numbers)):\n",
    "            answer.append(numbers[i] + numbers[j])\n",
    "        \n",
    "    # 중복된 수를 set을 통해 없에고 \n",
    "    # 버블 소트로 오름차순으로 정렬\n",
    "    answer = list(set(answer))\n",
    "    for i in range(len(answer)-1, 0, -1):\n",
    "        for j in range(i):\n",
    "            if answer[j] > answer[j+1]:\n",
    "                answer[j], answer[j+1] = answer[j+1], answer[j]\n",
    "        \n",
    "    return answer"
   ]
  },
  {
   "cell_type": "code",
   "execution_count": 14,
   "metadata": {},
   "outputs": [
    {
     "name": "stdout",
     "output_type": "stream",
     "text": [
      "[2, 3, 4, 5, 6, 7]\n"
     ]
    },
    {
     "data": {
      "text/plain": [
       "[2, 3, 4, 5, 6, 7]"
      ]
     },
     "execution_count": 14,
     "metadata": {},
     "output_type": "execute_result"
    }
   ],
   "source": [
    "solution([2,1,3,4,1])"
   ]
  },
  {
   "cell_type": "markdown",
   "metadata": {},
   "source": [
    "## 신규 아이디 추천\n",
    "\n",
    "- 아이디의 길이는 3자 이상 15자 이하여야 합니다.\n",
    "- 아이디는 알파벳 소문자, 숫자, 빼기(-), 밑줄(_), 마침표(.) 문자만 사용할 수 있습니다.\n",
    "- 단, 마침표(.)는 처음과 끝에 사용할 수 없으며 또한 연속으로 사용할 수 없습니다."
   ]
  },
  {
   "cell_type": "code",
   "execution_count": 112,
   "metadata": {},
   "outputs": [],
   "source": [
    "def solution(new_id):\n",
    "    \n",
    "# 1단계 new_id의 모든 대문자를 대응되는 소문자로 치환합니다.\n",
    "    new_id = new_id.lower()\n",
    "\n",
    "    \n",
    "# 2단계 new_id에서 알파벳 소문자, 숫자, 빼기(-), 밑줄(_), 마침표(.)를 제외한 모든 문자를 제거합니다.\n",
    "    for char in new_id:\n",
    "        if char not in \"abcdefghijklmnopqrstuvwxyz0123456789-_.\":\n",
    "            new_id = new_id.replace(char, '')  # 문자를 삭제하는 method 암기하자!!!\n",
    "            \n",
    "    \n",
    "# 3단계 new_id에서 마침표(.)가 2번 이상 연속된 부분을 하나의 마침표(.)로 치환합니다.\n",
    "# 더 이상 글자의 길이가 줄지 않을 때까지 반복해서 .. -> .로 치환하기\n",
    "    while len(new_id) != len(new_id.replace('..', '.')):\n",
    "        new_id = new_id.replace('..', '.')\n",
    "        \n",
    "\n",
    "# 4단계 new_id에서 마침표(.)가 처음이나 끝에 위치한다면 제거합니다.\n",
    "    if new_id[0] == '.':\n",
    "        new_id = new_id[1:]\n",
    "        \n",
    "    if len(new_id) > 0 and new_id[-1] == '.':  # 여기서 자꾸 오류가 났음\n",
    "        new_id = new_id[:-1]\n",
    "    \n",
    "\n",
    "# 5단계 new_id가 빈 문자열이라면, new_id에 \"a\"를 대입합니다.\n",
    "    if len(new_id) == 0:\n",
    "        new_id = 'a'\n",
    "    \n",
    "    \n",
    "# 6단계 new_id의 길이가 16자 이상이면, new_id의 첫 15개의 문자를 제외한 나머지 문자들을 모두 제거합니다.\n",
    "    if len(new_id) >= 16:\n",
    "        new_id = new_id[:15]\n",
    "        \n",
    "\n",
    "#      만약 제거 후 마침표(.)가 new_id의 끝에 위치한다면 끝에 위치한 마침표(.) 문자를 제거합니다.\n",
    "    if new_id[-1] == '.':\n",
    "        new_id = new_id[:-1]\n",
    "\n",
    "        \n",
    "# 7단계 new_id의 길이가 2자 이하라면, new_id의 마지막 문자를 new_id의 길이가 3이 될 때까지 반복해서 끝에 붙입니다.\n",
    "    while len(new_id) <= 2:\n",
    "        new_id += new_id[-1]\n",
    "\n",
    "    return new_id"
   ]
  },
  {
   "cell_type": "code",
   "execution_count": 106,
   "metadata": {},
   "outputs": [
    {
     "data": {
      "text/plain": [
       "'bat.y.abcdefghi'"
      ]
     },
     "execution_count": 106,
     "metadata": {},
     "output_type": "execute_result"
    }
   ],
   "source": [
    "solution('...!@BaT#*..y.abcdefghijklm')"
   ]
  },
  {
   "cell_type": "code",
   "execution_count": 113,
   "metadata": {},
   "outputs": [
    {
     "name": "stdout",
     "output_type": "stream",
     "text": [
      "bat.y.abcdefghi\n",
      "z--\n",
      "aaa\n",
      "123_.def\n",
      "abcdefghijklmn\n"
     ]
    }
   ],
   "source": [
    "print(solution('...!@BaT#*..y.abcdefghijklm'))\n",
    "print(solution(\"z-+.^.\"))\n",
    "print(solution(\"=.=\"))\n",
    "print(solution(\"123_.def\"))\n",
    "print(solution(\"abcdefghijklmn.p\"))"
   ]
  },
  {
   "cell_type": "code",
   "execution_count": null,
   "metadata": {},
   "outputs": [],
   "source": []
  },
  {
   "cell_type": "code",
   "execution_count": null,
   "metadata": {},
   "outputs": [],
   "source": []
  }
 ],
 "metadata": {
  "kernelspec": {
   "display_name": "Python 3",
   "language": "python",
   "name": "python3"
  },
  "language_info": {
   "codemirror_mode": {
    "name": "ipython",
    "version": 3
   },
   "file_extension": ".py",
   "mimetype": "text/x-python",
   "name": "python",
   "nbconvert_exporter": "python",
   "pygments_lexer": "ipython3",
   "version": "3.8.7"
  },
  "toc": {
   "base_numbering": 1,
   "nav_menu": {},
   "number_sections": true,
   "sideBar": true,
   "skip_h1_title": false,
   "title_cell": "Table of Contents",
   "title_sidebar": "Contents",
   "toc_cell": false,
   "toc_position": {},
   "toc_section_display": true,
   "toc_window_display": false
  }
 },
 "nbformat": 4,
 "nbformat_minor": 4
}
